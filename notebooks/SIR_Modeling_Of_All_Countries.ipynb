{
 "cells": [
  {
   "cell_type": "code",
   "execution_count": 24,
   "metadata": {},
   "outputs": [],
   "source": [
    "import pandas as pd\n",
    "import numpy as np\n",
    "\n",
    "import random\n",
    "from datetime import datetime\n",
    "import pandas as pd \n",
    "\n",
    "from scipy import optimize\n",
    "from scipy import integrate\n",
    "\n",
    "import plotly.graph_objects as go\n",
    "\n",
    "%matplotlib inline\n",
    "import matplotlib as mpl\n",
    "import matplotlib.pyplot as plt\n",
    "\n",
    "import seaborn as sns\n",
    "\n",
    "import dash\n",
    "import dash_core_components as dcc\n",
    "\n",
    "import dash_html_components as html\n",
    "from dash.dependencies import Input, Output,State\n",
    "\n",
    "\n",
    "\n",
    "sns.set(style=\"darkgrid\")\n",
    "\n",
    "\n",
    "mpl.rcParams['figure.figsize'] = (16, 9)\n",
    "pd.set_option('display.max_rows', 500)"
   ]
  },
  {
   "cell_type": "code",
   "execution_count": 25,
   "metadata": {},
   "outputs": [
    {
     "data": {
      "text/html": [
       "<div>\n",
       "<style scoped>\n",
       "    .dataframe tbody tr th:only-of-type {\n",
       "        vertical-align: middle;\n",
       "    }\n",
       "\n",
       "    .dataframe tbody tr th {\n",
       "        vertical-align: top;\n",
       "    }\n",
       "\n",
       "    .dataframe thead th {\n",
       "        text-align: right;\n",
       "    }\n",
       "</style>\n",
       "<table border=\"1\" class=\"dataframe\">\n",
       "  <thead>\n",
       "    <tr style=\"text-align: right;\">\n",
       "      <th></th>\n",
       "      <th>date</th>\n",
       "      <th>India</th>\n",
       "      <th>China</th>\n",
       "      <th>Japan</th>\n",
       "      <th>Pakistan</th>\n",
       "      <th>Nepal</th>\n",
       "    </tr>\n",
       "  </thead>\n",
       "  <tbody>\n",
       "    <tr>\n",
       "      <th>0</th>\n",
       "      <td>2020-01-22</td>\n",
       "      <td>0</td>\n",
       "      <td>548</td>\n",
       "      <td>2</td>\n",
       "      <td>0</td>\n",
       "      <td>0</td>\n",
       "    </tr>\n",
       "    <tr>\n",
       "      <th>1</th>\n",
       "      <td>2020-01-23</td>\n",
       "      <td>0</td>\n",
       "      <td>643</td>\n",
       "      <td>2</td>\n",
       "      <td>0</td>\n",
       "      <td>0</td>\n",
       "    </tr>\n",
       "    <tr>\n",
       "      <th>2</th>\n",
       "      <td>2020-01-24</td>\n",
       "      <td>0</td>\n",
       "      <td>920</td>\n",
       "      <td>2</td>\n",
       "      <td>0</td>\n",
       "      <td>0</td>\n",
       "    </tr>\n",
       "    <tr>\n",
       "      <th>3</th>\n",
       "      <td>2020-01-25</td>\n",
       "      <td>0</td>\n",
       "      <td>1406</td>\n",
       "      <td>2</td>\n",
       "      <td>0</td>\n",
       "      <td>1</td>\n",
       "    </tr>\n",
       "    <tr>\n",
       "      <th>4</th>\n",
       "      <td>2020-01-26</td>\n",
       "      <td>0</td>\n",
       "      <td>2075</td>\n",
       "      <td>4</td>\n",
       "      <td>0</td>\n",
       "      <td>1</td>\n",
       "    </tr>\n",
       "  </tbody>\n",
       "</table>\n",
       "</div>"
      ],
      "text/plain": [
       "         date  India  China  Japan  Pakistan  Nepal\n",
       "0  2020-01-22      0    548      2         0      0\n",
       "1  2020-01-23      0    643      2         0      0\n",
       "2  2020-01-24      0    920      2         0      0\n",
       "3  2020-01-25      0   1406      2         0      1\n",
       "4  2020-01-26      0   2075      4         0      1"
      ]
     },
     "execution_count": 25,
     "metadata": {},
     "output_type": "execute_result"
    }
   ],
   "source": [
    "df_analyse=pd.read_csv('../data/processed/COVID_small_flat_table.csv',sep=';')  \n",
    "\n",
    "df_analyse.sort_values('date',ascending=True).head()"
   ]
  },
  {
   "cell_type": "code",
   "execution_count": 26,
   "metadata": {},
   "outputs": [],
   "source": [
    "N0=1000000 #The maximum susceptible population\n",
    "beta=0.4   \n",
    "gamma=0.1  \n",
    "I0=df_analyse.China[35]\n",
    "S0=N0-I0\n",
    "R0=0"
   ]
  },
  {
   "cell_type": "code",
   "execution_count": 27,
   "metadata": {},
   "outputs": [],
   "source": [
    "def SIR_model(SIR,beta,gamma):\n",
    "    ''' Simple SIR model\n",
    "        S: susceptible population\n",
    "        I: infected people\n",
    "        R: recovered people\n",
    "        beta: \n",
    "        \n",
    "        overall condition is that the sum of changes (differnces) sum up to 0\n",
    "        dS+dI+dR=0\n",
    "        S+I+R= N (constant size of population)\n",
    "    \n",
    "    '''\n",
    "    S,I,R=SIR\n",
    "    dS_dt=-beta*S*I/N0          \n",
    "    dI_dt=beta*S*I/N0-gamma*I\n",
    "    dR_dt=gamma*I\n",
    "    return([dS_dt,dI_dt,dR_dt])"
   ]
  },
  {
   "cell_type": "markdown",
   "metadata": {},
   "source": [
    "# The Simulative approach to calculate the SIR curves"
   ]
  },
  {
   "cell_type": "code",
   "execution_count": 28,
   "metadata": {},
   "outputs": [],
   "source": [
    "SIR=np.array([S0,I0,R0])\n",
    "\n",
    "propagation_rates=pd.DataFrame(columns={'susceptible':S0,\n",
    "                                        'infected':I0,\n",
    "                                        'recoverd':R0})\n",
    "\n",
    "\n",
    "\n",
    "\n",
    "for each_t in np.arange(100):\n",
    "   \n",
    "    new_delta_vec=SIR_model(SIR,beta,gamma)\n",
    "   \n",
    "    SIR=SIR+new_delta_vec\n",
    "    \n",
    "    propagation_rates=propagation_rates.append({'susceptible':SIR[0],\n",
    "                                                'infected':SIR[1],\n",
    "                                                'recovered':SIR[2]}, ignore_index=True)"
   ]
  },
  {
   "cell_type": "code",
   "execution_count": 29,
   "metadata": {},
   "outputs": [
    {
     "data": {
      "image/png": "[encoded data removed]",
      "text/plain": [
       "<Figure size 1152x648 with 1 Axes>"
      ]
     },
     "metadata": {},
     "output_type": "display_data"
    }
   ],
   "source": [
    "fig, ax1 = plt.subplots(1, 1)\n",
    "ax1.plot(propagation_rates.index,propagation_rates.infected,label='infected',color='k')\n",
    "ax1.plot(propagation_rates.index,propagation_rates.recovered,label='recovered')\n",
    "ax1.plot(propagation_rates.index,propagation_rates.susceptible,label='susceptible')\n",
    "\n",
    "\n",
    "ax1.set_ylim(10, 1000000)\n",
    "ax1.set_yscale('linear')\n",
    "ax1.set_title('Szenario SIR simulations  (demonstration purposes only)',size=16)\n",
    "ax1.set_xlabel('time in days',size=16)\n",
    "ax1.legend(loc='best',\n",
    "           prop={'size': 16});"
   ]
  },
  {
   "cell_type": "code",
   "execution_count": 30,
   "metadata": {},
   "outputs": [
    {
     "name": "stdout",
     "output_type": "stream",
     "text": [
      "[  0   1   2   3   4   5   6   7   8   9  10  11  12  13  14  15  16  17\n",
      "  18  19  20  21  22  23  24  25  26  27  28  29  30  31  32  33  34  35\n",
      "  36  37  38  39  40  41  42  43  44  45  46  47  48  49  50  51  52  53\n",
      "  54  55  56  57  58  59  60  61  62  63  64  65  66  67  68  69  70  71\n",
      "  72  73  74  75  76  77  78  79  80  81  82  83  84  85  86  87  88  89\n",
      "  90  91  92  93  94  95  96  97  98  99 100 101 102 103 104 105 106 107\n",
      " 108 109 110 111 112 113 114 115 116 117 118 119 120 121 122 123 124 125\n",
      " 126 127 128 129 130 131 132 133 134 135 136 137 138 139 140 141 142 143\n",
      " 144 145 146 147 148 149 150 151 152 153 154 155 156 157 158 159 160 161\n",
      " 162 163 164 165 166 167 168 169 170 171 172 173 174 175 176 177 178 179\n",
      " 180 181 182 183 184 185 186 187 188 189 190 191 192 193 194 195 196 197\n",
      " 198]\n"
     ]
    }
   ],
   "source": [
    "ydata = np.array(df_analyse.China[35:])\n",
    "t=np.arange(len(ydata))\n",
    "print(t)"
   ]
  },
  {
   "cell_type": "code",
   "execution_count": 31,
   "metadata": {},
   "outputs": [
    {
     "data": {
      "text/plain": [
       "0.4"
      ]
     },
     "execution_count": 31,
     "metadata": {},
     "output_type": "execute_result"
    }
   ],
   "source": [
    "I0=ydata[0]\n",
    "S0=N0-I0\n",
    "R0=0\n",
    "beta"
   ]
  },
  {
   "cell_type": "code",
   "execution_count": 32,
   "metadata": {},
   "outputs": [],
   "source": [
    "def SIR_model_t(SIR,t,beta,gamma):\n",
    "    S,I,R=SIR\n",
    "    dS_dt=-beta*S*I/N0          \n",
    "    dI_dt=beta*S*I/N0-gamma*I\n",
    "    dR_dt=gamma*I\n",
    "    return dS_dt,dI_dt,dR_dt"
   ]
  },
  {
   "cell_type": "code",
   "execution_count": 33,
   "metadata": {},
   "outputs": [],
   "source": [
    "def fit_odeint(x, beta, gamma):\n",
    "    '''\n",
    "    helper function for the integration\n",
    "    '''\n",
    "    return integrate.odeint(SIR_model_t, (S0, I0, R0), t, args=(beta, gamma))[:,1] # we only would like to get dI"
   ]
  },
  {
   "cell_type": "code",
   "execution_count": 34,
   "metadata": {},
   "outputs": [
    {
     "data": {
      "text/plain": [
       "array([7.81660000e+04, 1.01629183e+05, 1.30234748e+05, 1.63963311e+05,\n",
       "       2.02139289e+05, 2.43288486e+05, 2.85177618e+05, 3.25096085e+05,\n",
       "       3.60331911e+05, 3.88682392e+05, 4.08812071e+05, 4.20352571e+05,\n",
       "       4.23765813e+05, 4.20076508e+05, 4.10587895e+05, 3.96653543e+05,\n",
       "       3.79529309e+05, 3.60297569e+05, 3.39843188e+05, 3.18860568e+05,\n",
       "       2.97876077e+05, 2.77275786e+05, 2.57332905e+05, 2.38232254e+05,\n",
       "       2.20090845e+05, 2.02974571e+05, 1.86911421e+05, 1.71901763e+05,\n",
       "       1.57926246e+05, 1.44951819e+05, 1.32936276e+05, 1.21831659e+05,\n",
       "       1.11586786e+05, 1.02149110e+05, 9.34660725e+04, 8.54860610e+04,\n",
       "       7.81590851e+04, 7.14372254e+04, 6.52749204e+04, 5.96291292e+04,\n",
       "       5.44594044e+04, 4.97278975e+04, 4.53993170e+04, 4.14408529e+04,\n",
       "       3.78220779e+04, 3.45148341e+04, 3.14931110e+04, 2.87329188e+04,\n",
       "       2.62121612e+04, 2.39105096e+04, 2.18092810e+04, 1.98913196e+04,\n",
       "       1.81408849e+04, 1.65435445e+04, 1.50860736e+04, 1.37563604e+04,\n",
       "       1.25433181e+04, 1.14368021e+04, 1.04275337e+04, 9.50702924e+03,\n",
       "       8.66753390e+03, 7.90196145e+03, 7.20383806e+03, 6.56725067e+03,\n",
       "       5.98679953e+03, 5.45755450e+03, 4.97501498e+03, 4.53507305e+03,\n",
       "       4.13397972e+03, 3.76831400e+03, 3.43495452e+03, 3.13105356e+03,\n",
       "       2.85401332e+03, 2.60146415e+03, 2.37124471e+03, 2.16138374e+03,\n",
       "       1.97008349e+03, 1.79570451e+03, 1.63675179e+03, 1.49186216e+03,\n",
       "       1.35979263e+03, 1.23940982e+03, 1.12968044e+03, 1.02966241e+03,\n",
       "       9.38496804e+02, 8.55400598e+02, 7.79659931e+02, 7.10624038e+02,\n",
       "       6.47699668e+02, 5.90346011e+02, 5.38070082e+02, 4.90422488e+02,\n",
       "       4.46993581e+02, 4.07409951e+02, 3.71331218e+02, 3.38447120e+02,\n",
       "       3.08474846e+02, 2.81156610e+02, 2.56257441e+02, 2.33563163e+02,\n",
       "       2.12878556e+02, 1.94025681e+02, 1.76842347e+02, 1.61180723e+02,\n",
       "       1.46906065e+02, 1.33895558e+02, 1.22037258e+02, 1.11229135e+02,\n",
       "       1.01378191e+02, 9.23996627e+01, 8.42162924e+01, 7.67576632e+01,\n",
       "       6.99595930e+01, 6.37635833e+01, 5.81163159e+01, 5.29691938e+01,\n",
       "       4.82779236e+01, 4.40021344e+01, 4.01050301e+01, 3.65530735e+01,\n",
       "       3.33156972e+01, 3.03650410e+01, 2.76757117e+01, 2.52245653e+01,\n",
       "       2.29905071e+01, 2.09543108e+01, 1.90984528e+01, 1.74069614e+01,\n",
       "       1.58652793e+01, 1.44601388e+01, 1.31794468e+01, 1.20121815e+01,\n",
       "       1.09482971e+01, 9.97863753e+00, 9.09485771e+00, 8.28935157e+00,\n",
       "       7.55518667e+00, 6.88604457e+00, 6.27616642e+00, 5.72030340e+00,\n",
       "       5.21367158e+00, 4.75191070e+00, 4.33104668e+00, 3.94745741e+00,\n",
       "       3.59784158e+00, 3.27919026e+00, 2.98876102e+00, 2.72405430e+00,\n",
       "       2.48279195e+00, 2.26289755e+00, 2.06247861e+00, 1.87981025e+00,\n",
       "       1.71332033e+00, 1.56157599e+00, 1.42327125e+00, 1.29721579e+00,\n",
       "       1.18232474e+00, 1.07760928e+00, 9.82168201e-01, 8.95180089e-01,\n",
       "       8.15896288e-01, 7.43634449e-01, 6.77772653e-01, 6.17744067e-01,\n",
       "       5.63032057e-01, 5.13165749e-01, 4.67715972e-01, 4.26291565e-01,\n",
       "       3.88536011e-01, 3.54124372e-01, 3.22760481e-01, 2.94174410e-01,\n",
       "       2.68120134e-01, 2.44373419e-01, 2.22729889e-01, 2.03003271e-01,\n",
       "       1.85023790e-01, 1.68636705e-01, 1.53700982e-01, 1.40088078e-01,\n",
       "       1.27680835e-01, 1.16372468e-01, 1.06065656e-01, 9.66716916e-02,\n",
       "       8.81097284e-02, 8.03060742e-02, 7.31935705e-02, 6.67110022e-02,\n",
       "       6.08025796e-02, 5.54174501e-02, 5.05092684e-02, 4.60357911e-02,\n",
       "       4.19585186e-02, 3.82423595e-02, 3.48553316e-02, 3.17682838e-02,\n",
       "       2.89546480e-02, 2.63902086e-02, 2.40528952e-02])"
      ]
     },
     "execution_count": 34,
     "metadata": {},
     "output_type": "execute_result"
    }
   ],
   "source": [
    "popt=[0.4,0.1]\n",
    "fit_odeint(t, *popt)\n"
   ]
  },
  {
   "cell_type": "code",
   "execution_count": 35,
   "metadata": {},
   "outputs": [
    {
     "name": "stdout",
     "output_type": "stream",
     "text": [
      "standard deviation errors :  [0.00038731 0.00032867]  start infect: 78166\n",
      "Optimal parameters: beta = 0.006364860770302173  and gamma =  0.004893373132325838\n"
     ]
    }
   ],
   "source": [
    "popt, pcov = optimize.curve_fit(fit_odeint, t, ydata)\n",
    "perr = np.sqrt(np.diag(pcov))\n",
    "    \n",
    "print('standard deviation errors : ',str(perr), ' start infect:',ydata[0])\n",
    "print(\"Optimal parameters: beta =\", popt[0], \" and gamma = \", popt[1])"
   ]
  },
  {
   "cell_type": "code",
   "execution_count": 36,
   "metadata": {},
   "outputs": [],
   "source": [
    "fitted=fit_odeint(t, *popt)"
   ]
  },
  {
   "cell_type": "code",
   "execution_count": 37,
   "metadata": {},
   "outputs": [
    {
     "data": {
      "image/png": "[encoded data removed]",
      "text/plain": [
       "<Figure size 1152x648 with 1 Axes>"
      ]
     },
     "metadata": {},
     "output_type": "display_data"
    },
    {
     "name": "stdout",
     "output_type": "stream",
     "text": [
      "Optimal parameters: beta = 0.006364860770302173  and gamma =  0.004893373132325838\n",
      "Basic Reproduction Number R0  1.3007102867867613\n",
      "This ratio is derived as the expected number of new infections (these new infections are sometimes called secondary infections from a single infection in a population where all subjects are susceptible. @wiki\n"
     ]
    }
   ],
   "source": [
    "plt.semilogy(t, ydata, 'o')\n",
    "plt.semilogy(t, fitted)\n",
    "plt.title(\"Fit of SIR model for France cases\")\n",
    "plt.ylabel(\"Population infected\")\n",
    "plt.xlabel(\"Days\")\n",
    "plt.show()\n",
    "print(\"Optimal parameters: beta =\", popt[0], \" and gamma = \", popt[1])\n",
    "print(\"Basic Reproduction Number R0 \" , popt[0]/ popt[1])\n",
    "print(\"This ratio is derived as the expected number of new infections (these new infections are sometimes called secondary infections from a single infection in a population where all subjects are susceptible. @wiki\")"
   ]
  },
  {
   "cell_type": "markdown",
   "metadata": {},
   "source": [
    "# infection rate-Dynamic beta in SIR"
   ]
  },
  {
   "cell_type": "code",
   "execution_count": 38,
   "metadata": {},
   "outputs": [],
   "source": [
    "t_initial=28\n",
    "t_intro_measures=14\n",
    "t_hold=21\n",
    "t_relax=21\n",
    "\n",
    "beta_max=0.4\n",
    "beta_min=0.11\n",
    "gamma=0.1\n",
    "pd_beta=np.concatenate((np.array(t_initial*[beta_max]),\n",
    "                       np.linspace(beta_max,beta_min,t_intro_measures),\n",
    "                       np.array(t_hold*[beta_min]),\n",
    "                        np.linspace(beta_min,beta_max,t_relax),\n",
    "                       ))"
   ]
  },
  {
   "cell_type": "code",
   "execution_count": 39,
   "metadata": {},
   "outputs": [
    {
     "data": {
      "text/plain": [
       "array([0.4       , 0.4       , 0.4       , 0.4       , 0.4       ,\n",
       "       0.4       , 0.4       , 0.4       , 0.4       , 0.4       ,\n",
       "       0.4       , 0.4       , 0.4       , 0.4       , 0.4       ,\n",
       "       0.4       , 0.4       , 0.4       , 0.4       , 0.4       ,\n",
       "       0.4       , 0.4       , 0.4       , 0.4       , 0.4       ,\n",
       "       0.4       , 0.4       , 0.4       , 0.4       , 0.37769231,\n",
       "       0.35538462, 0.33307692, 0.31076923, 0.28846154, 0.26615385,\n",
       "       0.24384615, 0.22153846, 0.19923077, 0.17692308, 0.15461538,\n",
       "       0.13230769, 0.11      , 0.11      , 0.11      , 0.11      ,\n",
       "       0.11      , 0.11      , 0.11      , 0.11      , 0.11      ,\n",
       "       0.11      , 0.11      , 0.11      , 0.11      , 0.11      ,\n",
       "       0.11      , 0.11      , 0.11      , 0.11      , 0.11      ,\n",
       "       0.11      , 0.11      , 0.11      , 0.11      , 0.1245    ,\n",
       "       0.139     , 0.1535    , 0.168     , 0.1825    , 0.197     ,\n",
       "       0.2115    , 0.226     , 0.2405    , 0.255     , 0.2695    ,\n",
       "       0.284     , 0.2985    , 0.313     , 0.3275    , 0.342     ,\n",
       "       0.3565    , 0.371     , 0.3855    , 0.4       ])"
      ]
     },
     "execution_count": 39,
     "metadata": {},
     "output_type": "execute_result"
    }
   ],
   "source": [
    "pd_beta"
   ]
  },
  {
   "cell_type": "code",
   "execution_count": 40,
   "metadata": {},
   "outputs": [],
   "source": [
    "SIR=np.array([S0,I0,R0])\n",
    "propagation_rates=pd.DataFrame(columns={'susceptible':S0,\n",
    "                                        'infected':I0,\n",
    "                                        'recoverd':R0})\n",
    "\n",
    "\n",
    "\n",
    "for each_beta in pd_beta:\n",
    "   \n",
    "    new_delta_vec=SIR_model(SIR,each_beta,gamma)\n",
    "   \n",
    "    SIR=SIR+new_delta_vec\n",
    "    \n",
    "    propagation_rates=propagation_rates.append({'susceptible':SIR[0],\n",
    "                                                'infected':SIR[1],\n",
    "                                                'recovered':SIR[2]}, ignore_index=True)"
   ]
  },
  {
   "cell_type": "code",
   "execution_count": 41,
   "metadata": {},
   "outputs": [
    {
     "data": {
      "image/png": "[encoded data removed]",
      "text/plain": [
       "<Figure size 1152x648 with 1 Axes>"
      ]
     },
     "metadata": {},
     "output_type": "display_data"
    }
   ],
   "source": [
    "fig, ax1 = plt.subplots(1, 1)\n",
    "\n",
    "ax1.plot(propagation_rates.index,propagation_rates.infected,label='infected',linewidth=3)\n",
    "\n",
    "t_phases=np.array([t_initial,t_intro_measures,t_hold,t_relax]).cumsum()\n",
    "ax1.bar(np.arange(len(ydata)),ydata, width=0.8,label=' current infected France',color='r')\n",
    "ax1.axvspan(0,t_phases[0], facecolor='b', alpha=0.2,label='no measures')\n",
    "ax1.axvspan(t_phases[0],t_phases[1], facecolor='b', alpha=0.3,label='hard measures introduced')\n",
    "ax1.axvspan(t_phases[1],t_phases[2], facecolor='b', alpha=0.4,label='hold measures')\n",
    "ax1.axvspan(t_phases[2],t_phases[3], facecolor='b', alpha=0.5,label='relax measures')\n",
    "ax1.axvspan(t_phases[3],len(propagation_rates.infected), facecolor='b', alpha=0.6,label='repead hard measures')\n",
    "\n",
    "ax1.set_ylim(10, 1.5*max(propagation_rates.infected))\n",
    "ax1.set_yscale('log')\n",
    "ax1.set_title('Scenario SIR simulations  (demonstration purposes only)',size=16)\n",
    "ax1.set_xlabel('time in days',size=16)\n",
    "ax1.legend(loc='best',\n",
    "           prop={'size': 16});"
   ]
  },
  {
   "cell_type": "code",
   "execution_count": 42,
   "metadata": {},
   "outputs": [],
   "source": [
    "data_path='../data/raw/COVID-19/csse_covid_19_data/csse_covid_19_time_series/time_series_covid19_confirmed_global.csv'"
   ]
  },
  {
   "cell_type": "code",
   "execution_count": 43,
   "metadata": {},
   "outputs": [
    {
     "data": {
      "text/html": [
       "<div>\n",
       "<style scoped>\n",
       "    .dataframe tbody tr th:only-of-type {\n",
       "        vertical-align: middle;\n",
       "    }\n",
       "\n",
       "    .dataframe tbody tr th {\n",
       "        vertical-align: top;\n",
       "    }\n",
       "\n",
       "    .dataframe thead th {\n",
       "        text-align: right;\n",
       "    }\n",
       "</style>\n",
       "<table border=\"1\" class=\"dataframe\">\n",
       "  <thead>\n",
       "    <tr style=\"text-align: right;\">\n",
       "      <th></th>\n",
       "      <th>Date</th>\n",
       "      <th>Afghanistan</th>\n",
       "      <th>Albania</th>\n",
       "      <th>Algeria</th>\n",
       "      <th>Andorra</th>\n",
       "      <th>Angola</th>\n",
       "      <th>Antigua and Barbuda</th>\n",
       "      <th>Argentina</th>\n",
       "      <th>Armenia</th>\n",
       "      <th>Australia</th>\n",
       "      <th>...</th>\n",
       "      <th>United Kingdom</th>\n",
       "      <th>Uruguay</th>\n",
       "      <th>Uzbekistan</th>\n",
       "      <th>Venezuela</th>\n",
       "      <th>Vietnam</th>\n",
       "      <th>West Bank and Gaza</th>\n",
       "      <th>Western Sahara</th>\n",
       "      <th>Yemen</th>\n",
       "      <th>Zambia</th>\n",
       "      <th>Zimbabwe</th>\n",
       "    </tr>\n",
       "  </thead>\n",
       "  <tbody>\n",
       "    <tr>\n",
       "      <th>0</th>\n",
       "      <td>1/22/20</td>\n",
       "      <td>0</td>\n",
       "      <td>0</td>\n",
       "      <td>0</td>\n",
       "      <td>0</td>\n",
       "      <td>0</td>\n",
       "      <td>0</td>\n",
       "      <td>0</td>\n",
       "      <td>0</td>\n",
       "      <td>0</td>\n",
       "      <td>...</td>\n",
       "      <td>0</td>\n",
       "      <td>0</td>\n",
       "      <td>0</td>\n",
       "      <td>0</td>\n",
       "      <td>0</td>\n",
       "      <td>0</td>\n",
       "      <td>0</td>\n",
       "      <td>0</td>\n",
       "      <td>0</td>\n",
       "      <td>0</td>\n",
       "    </tr>\n",
       "    <tr>\n",
       "      <th>1</th>\n",
       "      <td>1/23/20</td>\n",
       "      <td>0</td>\n",
       "      <td>0</td>\n",
       "      <td>0</td>\n",
       "      <td>0</td>\n",
       "      <td>0</td>\n",
       "      <td>0</td>\n",
       "      <td>0</td>\n",
       "      <td>0</td>\n",
       "      <td>0</td>\n",
       "      <td>...</td>\n",
       "      <td>0</td>\n",
       "      <td>0</td>\n",
       "      <td>0</td>\n",
       "      <td>0</td>\n",
       "      <td>2</td>\n",
       "      <td>0</td>\n",
       "      <td>0</td>\n",
       "      <td>0</td>\n",
       "      <td>0</td>\n",
       "      <td>0</td>\n",
       "    </tr>\n",
       "    <tr>\n",
       "      <th>2</th>\n",
       "      <td>1/24/20</td>\n",
       "      <td>0</td>\n",
       "      <td>0</td>\n",
       "      <td>0</td>\n",
       "      <td>0</td>\n",
       "      <td>0</td>\n",
       "      <td>0</td>\n",
       "      <td>0</td>\n",
       "      <td>0</td>\n",
       "      <td>0</td>\n",
       "      <td>...</td>\n",
       "      <td>0</td>\n",
       "      <td>0</td>\n",
       "      <td>0</td>\n",
       "      <td>0</td>\n",
       "      <td>2</td>\n",
       "      <td>0</td>\n",
       "      <td>0</td>\n",
       "      <td>0</td>\n",
       "      <td>0</td>\n",
       "      <td>0</td>\n",
       "    </tr>\n",
       "    <tr>\n",
       "      <th>3</th>\n",
       "      <td>1/25/20</td>\n",
       "      <td>0</td>\n",
       "      <td>0</td>\n",
       "      <td>0</td>\n",
       "      <td>0</td>\n",
       "      <td>0</td>\n",
       "      <td>0</td>\n",
       "      <td>0</td>\n",
       "      <td>0</td>\n",
       "      <td>0</td>\n",
       "      <td>...</td>\n",
       "      <td>0</td>\n",
       "      <td>0</td>\n",
       "      <td>0</td>\n",
       "      <td>0</td>\n",
       "      <td>2</td>\n",
       "      <td>0</td>\n",
       "      <td>0</td>\n",
       "      <td>0</td>\n",
       "      <td>0</td>\n",
       "      <td>0</td>\n",
       "    </tr>\n",
       "    <tr>\n",
       "      <th>4</th>\n",
       "      <td>1/26/20</td>\n",
       "      <td>0</td>\n",
       "      <td>0</td>\n",
       "      <td>0</td>\n",
       "      <td>0</td>\n",
       "      <td>0</td>\n",
       "      <td>0</td>\n",
       "      <td>0</td>\n",
       "      <td>0</td>\n",
       "      <td>4</td>\n",
       "      <td>...</td>\n",
       "      <td>0</td>\n",
       "      <td>0</td>\n",
       "      <td>0</td>\n",
       "      <td>0</td>\n",
       "      <td>2</td>\n",
       "      <td>0</td>\n",
       "      <td>0</td>\n",
       "      <td>0</td>\n",
       "      <td>0</td>\n",
       "      <td>0</td>\n",
       "    </tr>\n",
       "  </tbody>\n",
       "</table>\n",
       "<p>5 rows × 189 columns</p>\n",
       "</div>"
      ],
      "text/plain": [
       "      Date  Afghanistan  Albania  Algeria  Andorra  Angola  \\\n",
       "0  1/22/20            0        0        0        0       0   \n",
       "1  1/23/20            0        0        0        0       0   \n",
       "2  1/24/20            0        0        0        0       0   \n",
       "3  1/25/20            0        0        0        0       0   \n",
       "4  1/26/20            0        0        0        0       0   \n",
       "\n",
       "   Antigua and Barbuda  Argentina  Armenia  Australia    ...     \\\n",
       "0                    0          0        0          0    ...      \n",
       "1                    0          0        0          0    ...      \n",
       "2                    0          0        0          0    ...      \n",
       "3                    0          0        0          0    ...      \n",
       "4                    0          0        0          4    ...      \n",
       "\n",
       "   United Kingdom  Uruguay  Uzbekistan  Venezuela  Vietnam  \\\n",
       "0               0        0           0          0        0   \n",
       "1               0        0           0          0        2   \n",
       "2               0        0           0          0        2   \n",
       "3               0        0           0          0        2   \n",
       "4               0        0           0          0        2   \n",
       "\n",
       "   West Bank and Gaza  Western Sahara  Yemen  Zambia  Zimbabwe  \n",
       "0                   0               0      0       0         0  \n",
       "1                   0               0      0       0         0  \n",
       "2                   0               0      0       0         0  \n",
       "3                   0               0      0       0         0  \n",
       "4                   0               0      0       0         0  \n",
       "\n",
       "[5 rows x 189 columns]"
      ]
     },
     "execution_count": 43,
     "metadata": {},
     "output_type": "execute_result"
    }
   ],
   "source": [
    "pd_raw = pd.read_csv(data_path)\n",
    "country_list = pd_raw['Country/Region'].unique()\n",
    "date=pd_raw.columns[4:]\n",
    "df_analyse=pd.DataFrame({'Date':date})\n",
    "\n",
    "for each in country_list:\n",
    "    df_analyse[each] = np.array(pd_raw[pd_raw['Country/Region']==each].iloc[:,4::].sum(axis=0)).T\n",
    "df_analyse.to_csv('../data/raw/COVID-19/csse_covid_19_data/SIR.csv',index=False)\n",
    "\n",
    "df_analyse.sort_values('Date',ascending=True).head()"
   ]
  },
  {
   "cell_type": "code",
   "execution_count": 44,
   "metadata": {},
   "outputs": [
    {
     "name": "stderr",
     "output_type": "stream",
     "text": [
      "C:\\Users\\aaris\\Anaconda3\\lib\\site-packages\\scipy\\integrate\\odepack.py:236: ODEintWarning:\n",
      "\n",
      "Excess work done on this call (perhaps wrong Dfun type). Run with full_output = 1 to get quantitative information.\n",
      "\n",
      "C:\\Users\\aaris\\Anaconda3\\lib\\site-packages\\ipykernel_launcher.py:3: RuntimeWarning:\n",
      "\n",
      "overflow encountered in double_scalars\n",
      "\n",
      "C:\\Users\\aaris\\Anaconda3\\lib\\site-packages\\ipykernel_launcher.py:4: RuntimeWarning:\n",
      "\n",
      "overflow encountered in double_scalars\n",
      "\n",
      "C:\\Users\\aaris\\Anaconda3\\lib\\site-packages\\ipykernel_launcher.py:5: RuntimeWarning:\n",
      "\n",
      "overflow encountered in double_scalars\n",
      "\n",
      "C:\\Users\\aaris\\Anaconda3\\lib\\site-packages\\scipy\\integrate\\odepack.py:236: ODEintWarning:\n",
      "\n",
      "Illegal input detected (internal error). Run with full_output = 1 to get quantitative information.\n",
      "\n",
      "C:\\Users\\aaris\\Anaconda3\\lib\\site-packages\\ipykernel_launcher.py:21: SettingWithCopyWarning:\n",
      "\n",
      "\n",
      "A value is trying to be set on a copy of a slice from a DataFrame.\n",
      "Try using .loc[row_indexer,col_indexer] = value instead\n",
      "\n",
      "See the caveats in the documentation: http://pandas.pydata.org/pandas-docs/stable/indexing.html#indexing-view-versus-copy\n",
      "\n",
      "C:\\Users\\aaris\\Anaconda3\\lib\\site-packages\\ipykernel_launcher.py:4: RuntimeWarning:\n",
      "\n",
      "invalid value encountered in double_scalars\n",
      "\n"
     ]
    }
   ],
   "source": [
    "N0=1000000 \n",
    "beta=0.4   \n",
    "gamma=0.1  \n",
    "\n",
    "df_data=df_analyse[35:]\n",
    "t=np.arange(df_data.shape[0])\n",
    "# condition I0+S0+R0=N0\n",
    "\n",
    "R0=0\n",
    "for country in df_data.columns[1:]:\n",
    "    y_data=np.array(df_data[df_data[country]>0][country])\n",
    "    t=np.arange(len(y_data))\n",
    "    I0=y_data[0]\n",
    "    S0=N0-I0\n",
    "    popt=[0.4,0.1]\n",
    "    fit_odeint(t, *popt)\n",
    "    popt, pcov = optimize.curve_fit(fit_odeint, t, y_data, maxfev=5000)\n",
    "    perr = np.sqrt(np.diag(pcov))\n",
    "    fitted=fit_odeint(t, *popt)\n",
    "    fitted_pad = np.concatenate((np.zeros(df_data.shape[0]-len(fitted)) ,fitted))\n",
    "    df_data[country + '_fitted'] = fitted_pad\n",
    "\n",
    "df_data = df_data.reset_index(drop=True)\n",
    "df_data.to_csv('../data/processed/SIR_fitted.csv')\n",
    "    \n",
    "    "
   ]
  },
  {
   "cell_type": "code",
   "execution_count": 45,
   "metadata": {},
   "outputs": [],
   "source": [
    "color_list = []\n",
    "for i in range(200):\n",
    "    var = '#%02x%02x%02x'%(random.randint(0,255),random.randint(0,255),random.randint(0,255))\n",
    "    color_list.append(var)"
   ]
  },
  {
   "cell_type": "code",
   "execution_count": null,
   "metadata": {
    "scrolled": true
   },
   "outputs": [
    {
     "name": "stdout",
     "output_type": "stream",
     "text": [
      "Dash is running on http://127.0.0.1:8050/\n",
      "\n",
      "Dash is running on http://127.0.0.1:8050/\n",
      "\n",
      "Dash is running on http://127.0.0.1:8050/\n",
      "\n",
      " Warning: This is a development server. Do not use app.run_server\n",
      " Warning: This is a development server. Do not use app.run_server\n",
      " Warning: This is a development server. Do not use app.run_server\n",
      " in production, use a production WSGI server like gunicorn instead.\n",
      "\n",
      " in production, use a production WSGI server like gunicorn instead.\n",
      "\n",
      " in production, use a production WSGI server like gunicorn instead.\n",
      "\n",
      " * Serving Flask app \"__main__\" (lazy loading)\n",
      " * Environment: production\n",
      "   WARNING: Do not use the development server in a production environment.\n",
      "   Use a production WSGI server instead.\n",
      " * Debug mode: on\n"
     ]
    }
   ],
   "source": [
    "fig = go.Figure()\n",
    "app = dash.Dash()\n",
    "app.layout = html.Div([\n",
    "\n",
    "    dcc.Markdown('''\n",
    "    #  Data Science Project SIR\n",
    "    \n",
    "    * This dashboard plots two curves for each country:\n",
    "    \n",
    "    The first curve represents the confirmed infected cases along the timeline.\n",
    "    The second curve represents the simulated infected cases after applying the SIR model along the timeline. \n",
    "    \n",
    "    '''),\n",
    "\n",
    "    dcc.Markdown('''\n",
    "    ## Multi-Select Country for visualization\n",
    "    '''),\n",
    "    dcc.Dropdown(\n",
    "        id='country_drop_down',\n",
    "        options=[ {'label': each,'value':each} for each in df_data.columns[1:200]],\n",
    "        value=['Germany','France'], # which are pre-selected\n",
    "        multi=True),\n",
    "    dcc.Dropdown(\n",
    "        id='SIR',\n",
    "        options=[ {'label': 'Susceptable','value':'susceptable'}, {'label': 'Infected','value':'infected'}, {'label': 'Recovered','value':'recovered'},],\n",
    "        value='confirmed',\n",
    "        multi=False),\n",
    "    dcc.Graph(figure=fig, id='main_window_slope')])\n",
    "\n",
    "\n",
    "@app.callback(\n",
    "    Output('main_window_slope', 'figure'),\n",
    "    [Input('country_drop_down', 'value')])\n",
    "def update_figure(country_list):\n",
    "    v = 0\n",
    "    my_yaxis={'type':\"log\",'title':'Infected people'}\n",
    "    traces = []\n",
    "    for each in country_list:\n",
    "        traces.append(dict(x=df_data['Date'],y=df_data[each],\n",
    "                                mode='line', line = dict(color = color_list[v]), opacity=1.0,name=each))\n",
    "        traces.append(dict(x=df_data['Date'],\n",
    "                                y=df_data[each+'_fitted'],\n",
    "                                mode='markers',line = dict(color=color_list[v]), opacity=1.0,name=each+'_simulated'))\n",
    "\n",
    "        v = v+1\n",
    "    return {\n",
    "            'data': traces,\n",
    "            'layout': dict (\n",
    "                width=1280,height=720,\n",
    "                xaxis={'title':'Timeline','tickangle':-45,'nticks':20,\n",
    "                'tickfont':dict(size=14,color=\"#0c6887\"),},yaxis=my_yaxis)}\n",
    "\n",
    "if __name__ == '__main__':\n",
    "    app.run_server(debug=True, use_reloader=False)"
   ]
  },
  {
   "cell_type": "code",
   "execution_count": null,
   "metadata": {},
   "outputs": [],
   "source": []
  },
  {
   "cell_type": "code",
   "execution_count": null,
   "metadata": {},
   "outputs": [],
   "source": []
  },
  {
   "cell_type": "code",
   "execution_count": null,
   "metadata": {},
   "outputs": [],
   "source": []
  }
 ],
 "metadata": {
  "kernelspec": {
   "display_name": "Python 3",
   "language": "python",
   "name": "python3"
  },
  "language_info": {
   "codemirror_mode": {
    "name": "ipython",
    "version": 3
   },
   "file_extension": ".py",
   "mimetype": "text/x-python",
   "name": "python",
   "nbconvert_exporter": "python",
   "pygments_lexer": "ipython3",
   "version": "3.7.1"
  }
 },
 "nbformat": 4,
 "nbformat_minor": 4
}
